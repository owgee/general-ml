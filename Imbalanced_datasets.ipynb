{
  "nbformat": 4,
  "nbformat_minor": 0,
  "metadata": {
    "colab": {
      "provenance": [],
      "include_colab_link": true
    },
    "kernelspec": {
      "name": "python3",
      "display_name": "Python 3"
    },
    "language_info": {
      "name": "python"
    }
  },
  "cells": [
    {
      "cell_type": "markdown",
      "metadata": {
        "id": "view-in-github",
        "colab_type": "text"
      },
      "source": [
        "<a href=\"https://colab.research.google.com/github/owgee/general-ml/blob/main/Imbalanced_datasets.ipynb\" target=\"_parent\"><img src=\"https://colab.research.google.com/assets/colab-badge.svg\" alt=\"Open In Colab\"/></a>"
      ]
    },
    {
      "cell_type": "markdown",
      "source": [
        "# Dealing with Imbalanced Datasets\n",
        "\n",
        "When dealing with imbalanced datasets in classification tasks, we often use various sampling techniques to address the imbalance. These techniques can be categorized into oversampling, undersampling, and synthetic sampling.\n",
        "\n",
        "The **oversampling** technique involves increasing the number of instances in the minority class by randomly replicating them until the majority and minority class instances are balanced or nearly balanced.\n",
        "\n",
        "The **undersampling** technique reduces the number of instances in the majority class by randomly removing them until the majority and minority class instances are balanced or nearly balanced.\n",
        "\n",
        "**SMOTE** addresses the class imbalance by augmenting the dataset with synthetic instances rather than by oversampling (which can lead to overfitting) or undersampling (which can lead to loss of information). For every instance in the minority class, SMOTE selects 'k' nearest neighbors and generates synthetic instances between the chosen instance and its neighbors. If you are interested in the details of these technique, please read N. V. Chawla, K. W. Bowyer, L. O.Hall, W. P. Kegelmeyer, “SMOTE: synthetic minority over-sampling technique,” Journal of artificial intelligence research, 321-357, 2002.\n",
        "\n",
        "When deciding which method to use, it's essential to consider the dataset's size and the degree of imbalance.\n",
        "\n",
        "**Dataset's Size**:\n",
        "\n",
        "*Small Datasets*: When working with small datasets, undersampling may not be an ideal choice because it further reduces the data size, leading to potential loss of vital information. In contrast, oversampling or synthetic methods like SMOTE might be more suitable since they can increase the sample size and provide the model with more examples to learn from.\n",
        "\n",
        "*Large Datasets*: For extensive datasets, undersampling can be particularly useful. It can make the training process faster by reducing the data size without causing a significant loss of information. Oversampling a large dataset can be computationally expensive, as it might make the dataset much larger, extending the training time.\n",
        "\n",
        "**Degree of Imbalance**:\n",
        "\n",
        "*Severe Imbalance*: If the minority class is extremely underrepresented, simply undersampling the majority class might not be effective. This is because the model might still have too few examples of the minority class to learn from. In such cases, oversampling or SMOTE can be more effective as they amplify the minority class's presence.\n",
        "\n",
        "*Moderate Imbalance*: In cases where the imbalance is not too pronounced, undersampling might suffice. It can balance the classes without the risk of overfitting, which can be a concern with oversampling techniques.\n",
        "\n"
      ],
      "metadata": {
        "id": "atwkp7kbHvkB"
      }
    },
    {
      "cell_type": "markdown",
      "source": [
        "## Example 1: Binary Target Variable"
      ],
      "metadata": {
        "id": "iK5xhkxZemYq"
      }
    },
    {
      "cell_type": "markdown",
      "source": [
        "We first import necessary libraries and load the dataset.\n",
        "\n",
        "pandas is imported for data manipulation and analysis.\n",
        "io provides the capability to handle streams (like reading from memory).\n",
        "From google.colab, the files module is imported to enable the upload functionality specifically for Google Colab notebooks.\n",
        "Uploading Files:\n",
        "\n",
        "files.upload() opens an interactive widget in Google Colab that allows you to upload files from your local machine to the Colab environment. After uploading, the method returns a dictionary (uploaded) in which the keys are filenames and the values are the corresponding file data in byte format.\n",
        "Reading Uploaded File into a DataFrame:\n",
        "\n",
        "The io.BytesIO(uploaded['creditcard.csv']) segment reads the uploaded file (in this case, assumed to be 'creditcard.csv') from its byte format in memory into a stream.\n",
        "pd.read_csv() then reads this stream and converts the CSV data into a Pandas DataFrame named data.\n",
        "Displaying Class Distribution:\n",
        "\n",
        "The print(data['Class'].value_counts()) segment displays the frequency distribution of the 'Class' column in the DataFrame. In the context of this code, it's likely that 'Class' refers to labels or outcomes, and the code is showing how many occurrences there are for each unique class in the dataset. This can be particularly useful for understanding class imbalance in datasets, such as for fraud detection scenarios where fraudulent transactions are often much less frequent than legitimate ones."
      ],
      "metadata": {
        "id": "KxiUAm8IlyHg"
      }
    },
    {
      "cell_type": "code",
      "execution_count": null,
      "metadata": {
        "colab": {
          "base_uri": "https://localhost:8080/",
          "height": 125
        },
        "id": "tFWptEUHYkEz",
        "outputId": "0b735ee2-4d06-4fe2-ce5b-f62c79562eb4"
      },
      "outputs": [
        {
          "output_type": "display_data",
          "data": {
            "text/plain": [
              "<IPython.core.display.HTML object>"
            ],
            "text/html": [
              "\n",
              "     <input type=\"file\" id=\"files-8d0c4f3b-3338-4117-9ebc-0180e27aff6d\" name=\"files[]\" multiple disabled\n",
              "        style=\"border:none\" />\n",
              "     <output id=\"result-8d0c4f3b-3338-4117-9ebc-0180e27aff6d\">\n",
              "      Upload widget is only available when the cell has been executed in the\n",
              "      current browser session. Please rerun this cell to enable.\n",
              "      </output>\n",
              "      <script>// Copyright 2017 Google LLC\n",
              "//\n",
              "// Licensed under the Apache License, Version 2.0 (the \"License\");\n",
              "// you may not use this file except in compliance with the License.\n",
              "// You may obtain a copy of the License at\n",
              "//\n",
              "//      http://www.apache.org/licenses/LICENSE-2.0\n",
              "//\n",
              "// Unless required by applicable law or agreed to in writing, software\n",
              "// distributed under the License is distributed on an \"AS IS\" BASIS,\n",
              "// WITHOUT WARRANTIES OR CONDITIONS OF ANY KIND, either express or implied.\n",
              "// See the License for the specific language governing permissions and\n",
              "// limitations under the License.\n",
              "\n",
              "/**\n",
              " * @fileoverview Helpers for google.colab Python module.\n",
              " */\n",
              "(function(scope) {\n",
              "function span(text, styleAttributes = {}) {\n",
              "  const element = document.createElement('span');\n",
              "  element.textContent = text;\n",
              "  for (const key of Object.keys(styleAttributes)) {\n",
              "    element.style[key] = styleAttributes[key];\n",
              "  }\n",
              "  return element;\n",
              "}\n",
              "\n",
              "// Max number of bytes which will be uploaded at a time.\n",
              "const MAX_PAYLOAD_SIZE = 100 * 1024;\n",
              "\n",
              "function _uploadFiles(inputId, outputId) {\n",
              "  const steps = uploadFilesStep(inputId, outputId);\n",
              "  const outputElement = document.getElementById(outputId);\n",
              "  // Cache steps on the outputElement to make it available for the next call\n",
              "  // to uploadFilesContinue from Python.\n",
              "  outputElement.steps = steps;\n",
              "\n",
              "  return _uploadFilesContinue(outputId);\n",
              "}\n",
              "\n",
              "// This is roughly an async generator (not supported in the browser yet),\n",
              "// where there are multiple asynchronous steps and the Python side is going\n",
              "// to poll for completion of each step.\n",
              "// This uses a Promise to block the python side on completion of each step,\n",
              "// then passes the result of the previous step as the input to the next step.\n",
              "function _uploadFilesContinue(outputId) {\n",
              "  const outputElement = document.getElementById(outputId);\n",
              "  const steps = outputElement.steps;\n",
              "\n",
              "  const next = steps.next(outputElement.lastPromiseValue);\n",
              "  return Promise.resolve(next.value.promise).then((value) => {\n",
              "    // Cache the last promise value to make it available to the next\n",
              "    // step of the generator.\n",
              "    outputElement.lastPromiseValue = value;\n",
              "    return next.value.response;\n",
              "  });\n",
              "}\n",
              "\n",
              "/**\n",
              " * Generator function which is called between each async step of the upload\n",
              " * process.\n",
              " * @param {string} inputId Element ID of the input file picker element.\n",
              " * @param {string} outputId Element ID of the output display.\n",
              " * @return {!Iterable<!Object>} Iterable of next steps.\n",
              " */\n",
              "function* uploadFilesStep(inputId, outputId) {\n",
              "  const inputElement = document.getElementById(inputId);\n",
              "  inputElement.disabled = false;\n",
              "\n",
              "  const outputElement = document.getElementById(outputId);\n",
              "  outputElement.innerHTML = '';\n",
              "\n",
              "  const pickedPromise = new Promise((resolve) => {\n",
              "    inputElement.addEventListener('change', (e) => {\n",
              "      resolve(e.target.files);\n",
              "    });\n",
              "  });\n",
              "\n",
              "  const cancel = document.createElement('button');\n",
              "  inputElement.parentElement.appendChild(cancel);\n",
              "  cancel.textContent = 'Cancel upload';\n",
              "  const cancelPromise = new Promise((resolve) => {\n",
              "    cancel.onclick = () => {\n",
              "      resolve(null);\n",
              "    };\n",
              "  });\n",
              "\n",
              "  // Wait for the user to pick the files.\n",
              "  const files = yield {\n",
              "    promise: Promise.race([pickedPromise, cancelPromise]),\n",
              "    response: {\n",
              "      action: 'starting',\n",
              "    }\n",
              "  };\n",
              "\n",
              "  cancel.remove();\n",
              "\n",
              "  // Disable the input element since further picks are not allowed.\n",
              "  inputElement.disabled = true;\n",
              "\n",
              "  if (!files) {\n",
              "    return {\n",
              "      response: {\n",
              "        action: 'complete',\n",
              "      }\n",
              "    };\n",
              "  }\n",
              "\n",
              "  for (const file of files) {\n",
              "    const li = document.createElement('li');\n",
              "    li.append(span(file.name, {fontWeight: 'bold'}));\n",
              "    li.append(span(\n",
              "        `(${file.type || 'n/a'}) - ${file.size} bytes, ` +\n",
              "        `last modified: ${\n",
              "            file.lastModifiedDate ? file.lastModifiedDate.toLocaleDateString() :\n",
              "                                    'n/a'} - `));\n",
              "    const percent = span('0% done');\n",
              "    li.appendChild(percent);\n",
              "\n",
              "    outputElement.appendChild(li);\n",
              "\n",
              "    const fileDataPromise = new Promise((resolve) => {\n",
              "      const reader = new FileReader();\n",
              "      reader.onload = (e) => {\n",
              "        resolve(e.target.result);\n",
              "      };\n",
              "      reader.readAsArrayBuffer(file);\n",
              "    });\n",
              "    // Wait for the data to be ready.\n",
              "    let fileData = yield {\n",
              "      promise: fileDataPromise,\n",
              "      response: {\n",
              "        action: 'continue',\n",
              "      }\n",
              "    };\n",
              "\n",
              "    // Use a chunked sending to avoid message size limits. See b/62115660.\n",
              "    let position = 0;\n",
              "    do {\n",
              "      const length = Math.min(fileData.byteLength - position, MAX_PAYLOAD_SIZE);\n",
              "      const chunk = new Uint8Array(fileData, position, length);\n",
              "      position += length;\n",
              "\n",
              "      const base64 = btoa(String.fromCharCode.apply(null, chunk));\n",
              "      yield {\n",
              "        response: {\n",
              "          action: 'append',\n",
              "          file: file.name,\n",
              "          data: base64,\n",
              "        },\n",
              "      };\n",
              "\n",
              "      let percentDone = fileData.byteLength === 0 ?\n",
              "          100 :\n",
              "          Math.round((position / fileData.byteLength) * 100);\n",
              "      percent.textContent = `${percentDone}% done`;\n",
              "\n",
              "    } while (position < fileData.byteLength);\n",
              "  }\n",
              "\n",
              "  // All done.\n",
              "  yield {\n",
              "    response: {\n",
              "      action: 'complete',\n",
              "    }\n",
              "  };\n",
              "}\n",
              "\n",
              "scope.google = scope.google || {};\n",
              "scope.google.colab = scope.google.colab || {};\n",
              "scope.google.colab._files = {\n",
              "  _uploadFiles,\n",
              "  _uploadFilesContinue,\n",
              "};\n",
              "})(self);\n",
              "</script> "
            ]
          },
          "metadata": {}
        },
        {
          "output_type": "stream",
          "name": "stdout",
          "text": [
            "Saving creditcard.csv to creditcard.csv\n",
            "0    284315\n",
            "1       492\n",
            "Name: Class, dtype: int64\n"
          ]
        }
      ],
      "source": [
        "import pandas as pd\n",
        "import io\n",
        "from google.colab import files\n",
        "uploaded = files.upload()\n",
        "\n",
        "\n",
        "data = pd.read_csv(io.BytesIO(uploaded['creditcard.csv']))\n",
        "print(data['Class'].value_counts())\n"
      ]
    },
    {
      "cell_type": "markdown",
      "source": [
        "Then, we prepare the data for machine learning by splitting it into training and testing sets.\n",
        "\n"
      ],
      "metadata": {
        "id": "N-ILO_oWmE4H"
      }
    },
    {
      "cell_type": "code",
      "source": [
        "from sklearn.model_selection import train_test_split\n",
        "\n",
        "X = data.drop('Class', axis=1)\n",
        "y = data['Class']\n",
        "\n",
        "X_train, X_test, y_train, y_test = train_test_split(X, y, test_size=0.2, random_state=42, stratify=y)\n"
      ],
      "metadata": {
        "id": "-jF3g6PpYoza"
      },
      "execution_count": null,
      "outputs": []
    },
    {
      "cell_type": "markdown",
      "source": [
        "Then, we proceed with addressing class imbalance in a dataset using the random under-sampling, the oversampling and SMOTE techniques."
      ],
      "metadata": {
        "id": "eIh-WjZ8mR2Z"
      }
    },
    {
      "cell_type": "code",
      "source": [
        "from imblearn.under_sampling import RandomUnderSampler\n",
        "\n",
        "rus = RandomUnderSampler(random_state=42)\n",
        "X_rus, y_rus = rus.fit_resample(X_train, y_train)\n"
      ],
      "metadata": {
        "id": "hfnzsimwYqgX"
      },
      "execution_count": null,
      "outputs": []
    },
    {
      "cell_type": "code",
      "source": [
        "from imblearn.over_sampling import RandomOverSampler\n",
        "\n",
        "ros = RandomOverSampler(random_state=42)\n",
        "X_ros, y_ros = ros.fit_resample(X_train, y_train)\n"
      ],
      "metadata": {
        "id": "YzHEdZR4Ys8C"
      },
      "execution_count": null,
      "outputs": []
    },
    {
      "cell_type": "code",
      "source": [
        "from imblearn.over_sampling import SMOTE\n",
        "\n",
        "smote = SMOTE(random_state=42)\n",
        "X_smote, y_smote = smote.fit_resample(X_train, y_train)\n"
      ],
      "metadata": {
        "id": "E_mVJ4CdYu2A"
      },
      "execution_count": null,
      "outputs": []
    },
    {
      "cell_type": "markdown",
      "source": [
        "Lastly, we assess the performance of a logistic regression model on the initial imbalanced dataset and the various datasets that underwent different resampling techniques to become balanced."
      ],
      "metadata": {
        "id": "SeqvD7aurc1j"
      }
    },
    {
      "cell_type": "code",
      "source": [
        "from sklearn.linear_model import LogisticRegression\n",
        "from sklearn.metrics import classification_report, roc_auc_score\n",
        "\n",
        "model = LogisticRegression(max_iter=1000)\n",
        "\n",
        "def evaluate_model(X_train, y_train, X_test, y_test, description):\n",
        "    model.fit(X_train, y_train)\n",
        "    # Get probabilities for the positive class\n",
        "    y_prob = model.predict_proba(X_test)[:,1]\n",
        "    # Compute AUC\n",
        "    auc = roc_auc_score(y_test, y_prob)\n",
        "    y_pred = model.predict(X_test)\n",
        "    print(description)\n",
        "    #print(\"Classification Report:\\n\", classification_report(y_test, y_pred))\n",
        "    print(\"AUC:\", auc)\n",
        "    print(\"--------------------------\")\n",
        "\n",
        "# Without resampling\n",
        "evaluate_model(X_train, y_train, X_test, y_test, \"Without Resampling:\")\n",
        "\n",
        "# Random under-sampling\n",
        "evaluate_model(X_rus, y_rus, X_test, y_test, \"Random Under-sampling:\")\n",
        "\n",
        "# Random over-sampling\n",
        "evaluate_model(X_ros, y_ros, X_test, y_test, \"Random Over-sampling:\")\n",
        "\n",
        "# SMOTE\n",
        "evaluate_model(X_smote, y_smote, X_test, y_test, \"SMOTE:\")\n"
      ],
      "metadata": {
        "id": "tBBYPFAWYw4T",
        "colab": {
          "base_uri": "https://localhost:8080/"
        },
        "outputId": "ad167abf-e553-4f40-e416-716c5af7bf16"
      },
      "execution_count": null,
      "outputs": [
        {
          "output_type": "stream",
          "name": "stdout",
          "text": [
            "Without Resampling:\n",
            "AUC: 0.941461295407302\n",
            "--------------------------\n",
            "Random Under-sampling:\n",
            "AUC: 0.970818397350499\n",
            "--------------------------\n",
            "Random Over-sampling:\n",
            "AUC: 0.971236868058985\n",
            "--------------------------\n",
            "SMOTE:\n",
            "AUC: 0.974296531358745\n",
            "--------------------------\n"
          ]
        }
      ]
    },
    {
      "cell_type": "markdown",
      "source": [
        "## Example 2: Three-outcome categorical target variable"
      ],
      "metadata": {
        "id": "NmLx8jCWfL8p"
      }
    },
    {
      "cell_type": "markdown",
      "source": [
        "The following code analyzes the distribution of classes in a multi-class imbalanced dataset and address this imbalance using various balancing techniques.\n",
        "\n",
        "It begins by generating a synthetic dataset with three classes, with imbalances introduced through specified weights. This dataset mimics real-world scenarios where certain classes (or outcomes) are underrepresented. To address this imbalance, the code employs various resampling techniques, including Random Under-sampling, Random Over-sampling, and Synthetic Minority Over-sampling Technique (SMOTE). The performance of the model is evaluated on the test data without and with using each of the balancing techniques.\n",
        "\n",
        "For visualization purposes, the code uses a function called plot_histogram. This function displays histograms representing the class distribution. It has been enhanced to allow customization of the plot's size and the fontsize of the x-axis label. By using this function, the distribution of classes can be visually inspected before and after applying each resampling technique. This visualization aids in understanding how each method modifies the dataset's structure.\n",
        "\n",
        "Lastly, the code evaluates the performance of a multinomial logistic regression model on these resampled datasets using the One-vs-One (OvO) approach to compute the Area Under the Curve (AUC). AUC is a metric that helps assess the model's ability to differentiate between classes and can be adjusted to multi-class datasets.\n",
        "\n",
        "In essence, the code provides a comprehensive exploration of class imbalance in a multi-class setting, from visualization to modeling and evaluation."
      ],
      "metadata": {
        "id": "xFZgQkHCk1g1"
      }
    },
    {
      "cell_type": "code",
      "source": [
        "import numpy as np\n",
        "import pandas as pd\n",
        "import matplotlib.pyplot as plt\n",
        "from sklearn.datasets import make_classification\n",
        "from sklearn.linear_model import LogisticRegression\n",
        "from sklearn.metrics import roc_auc_score\n",
        "from sklearn.model_selection import train_test_split\n",
        "from imblearn.under_sampling import RandomUnderSampler\n",
        "from imblearn.over_sampling import RandomOverSampler, SMOTE\n",
        "\n",
        "# Synthetic Data\n",
        "X, y = make_classification(n_samples=5000, n_features=20, n_informative=15, n_redundant=5, n_classes=3, weights=[0.05, 0.15, 0.8], random_state=42)\n",
        "\n",
        "# Function to plot histograms\n",
        "def plot_histogram(y, title,width=2, height=1):\n",
        "    plt.figure(figsize=(width, height))\n",
        "    plt.hist(y, bins=np.arange(4) - 0.5, edgecolor='k', align='mid')\n",
        "    plt.xlabel('Class', fontsize=8)\n",
        "    plt.ylabel('Frequency', fontsize=8)\n",
        "    plt.title(title, fontsize=8)\n",
        "    plt.xticks([0, 1, 2])\n",
        "    plt.show()\n",
        "\n",
        "# Plot original data distribution\n",
        "plot_histogram(y, \"Original Data Distribution\")\n",
        "\n",
        "# Balancing Techniques\n",
        "rus = RandomUnderSampler(random_state=42)\n",
        "X_rus, y_rus = rus.fit_resample(X, y)\n",
        "plot_histogram(y_rus, \"Random Under-sampling Distribution\")\n",
        "\n",
        "ros = RandomOverSampler(random_state=42)\n",
        "X_ros, y_ros = ros.fit_resample(X, y)\n",
        "plot_histogram(y_ros, \"Random Over-sampling Distribution\")\n",
        "\n",
        "smote = SMOTE(random_state=42)\n",
        "X_smote, y_smote = smote.fit_resample(X, y)\n",
        "plot_histogram(y_smote, \"SMOTE Distribution\")\n",
        "\n",
        "# Model Evaluation Function\n",
        "def evaluate_multi_class(X_train, y_train, X_test, y_test, description):\n",
        "    model = LogisticRegression(multi_class='multinomial', solver='lbfgs', max_iter=1000)\n",
        "    model.fit(X_train, y_train)\n",
        "\n",
        "    # Predict probabilities\n",
        "    y_prob = model.predict_proba(X_test)\n",
        "\n",
        "    # Compute AUC for multi-class\n",
        "    auc = roc_auc_score(y_test, y_prob, multi_class='ovo')\n",
        "\n",
        "    print(description)\n",
        "    print(\"AUC (OvO):\", auc)\n",
        "    print(\"--------------------------\")\n",
        "\n",
        "# Splitting Data\n",
        "X_train, X_test, y_train, y_test = train_test_split(X, y, test_size=0.2, random_state=42, stratify=y)\n",
        "\n",
        "# Evaluating models\n",
        "evaluate_multi_class(X_train, y_train, X_test, y_test, \"Without Resampling:\")\n",
        "evaluate_multi_class(X_rus, y_rus, X_test, y_test, \"Random Under-sampling:\")\n",
        "evaluate_multi_class(X_ros, y_ros, X_test, y_test, \"Random Over-sampling:\")\n",
        "evaluate_multi_class(X_smote, y_smote, X_test, y_test, \"SMOTE:\")\n"
      ],
      "metadata": {
        "colab": {
          "base_uri": "https://localhost:8080/",
          "height": 833
        },
        "id": "AvDdKi_YfeLG",
        "outputId": "a9a92cb3-50f6-4207-dfe7-c0a32d2400fb"
      },
      "execution_count": null,
      "outputs": [
        {
          "output_type": "display_data",
          "data": {
            "text/plain": [
              "<Figure size 200x100 with 1 Axes>"
            ],
            "image/png": "[encoded data removed]"
          },
          "metadata": {}
        },
        {
          "output_type": "display_data",
          "data": {
            "text/plain": [
              "<Figure size 200x100 with 1 Axes>"
            ],
            "image/png": "[encoded data removed]"
          },
          "metadata": {}
        },
        {
          "output_type": "display_data",
          "data": {
            "text/plain": [
              "<Figure size 200x100 with 1 Axes>"
            ],
            "image/png": "[encoded data removed]"
          },
          "metadata": {}
        },
        {
          "output_type": "display_data",
          "data": {
            "text/plain": [
              "<Figure size 200x100 with 1 Axes>"
            ],
            "image/png": "[encoded data removed]"
          },
          "metadata": {}
        },
        {
          "output_type": "stream",
          "name": "stdout",
          "text": [
            "Without Resampling:\n",
            "AUC (OvO): 0.8202741449268122\n",
            "--------------------------\n",
            "Random Under-sampling:\n",
            "AUC (OvO): 0.8466198091347986\n",
            "--------------------------\n",
            "Random Over-sampling:\n",
            "AUC (OvO): 0.8571795908722798\n",
            "--------------------------\n",
            "SMOTE:\n",
            "AUC (OvO): 0.8544255203096146\n",
            "--------------------------\n"
          ]
        }
      ]
    }
  ]
}